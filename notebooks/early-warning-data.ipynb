{
 "cells": [
  {
   "metadata": {},
   "cell_type": "markdown",
   "source": [
    "## Early Warning Customer data\n",
    "\n",
    "ID: fbc0c2a7-9b29-4ed2-a909-3e68c26bb251\n",
    "Date Pulled: 2025-01-07\n",
    "Data Sources:\n",
    "- Okta system logs\n",
    "- Crowdstrike\n",
    "- TAP\n",
    "- Exchange ORG details\n",
    "- Active Directory\n",
    "\n",
    "The purpose of this portion of the notebook is to examine the distribution of devices across AD data."
   ],
   "id": "584e61f02fcb95aa"
  },
  {
   "metadata": {
    "ExecuteTime": {
     "end_time": "2025-06-18T13:02:06.743486Z",
     "start_time": "2025-06-18T13:02:06.145456Z"
    }
   },
   "cell_type": "code",
   "source": [
    "import polars as pl\n",
    "import datetime as dt\n",
    "import json\n",
    "from typing import Any, Dict, Iterable\n",
    "import os\n",
    "import re\n",
    "import pathlib\n",
    "import zstandard as zstd\n",
    "import csv\n",
    "import warnings\n",
    "warnings.filterwarnings(\"ignore\", category=UserWarning)\n",
    "\n",
    "# Decompress target files\n",
    "def normalize(name: str) -> str:\n",
    "    name = name.lower().strip()\n",
    "    name = re.sub(r'\\s+', '_', name)\n",
    "    name = re.sub(r'[^a-z0-9._-]', '', name)\n",
    "    return name\n",
    "\n",
    "def unzst_directory(src_dir: pathlib.Path):\n",
    "    src_dir = src_dir.resolve()\n",
    "    for root, _, files in os.walk(src_dir):\n",
    "        root = pathlib.Path(root)\n",
    "        rel = root.relative_to(src_dir)\n",
    "        target_root = src_dir / rel\n",
    "        target_root.mkdir(parents=True, exist_ok=True)\n",
    "        for file in files:\n",
    "            if file.endswith('.zst'):\n",
    "                inpath = root / file\n",
    "                stem = pathlib.Path(normalize(file[:-4]))\n",
    "                outpath = target_root / stem\n",
    "                print(f\"Decompressing {inpath} → {outpath}\")\n",
    "                with open(inpath, 'rb') as ifh, open(outpath, 'wb') as ofh:\n",
    "                    dctx = zstd.ZstdDecompressor()\n",
    "                    dctx.copy_stream(ifh, ofh)\n",
    "\n",
    "def dict_with_most_keys(dicts: Iterable[Dict[Any, Any]]) -> Dict[Any, Any]:\n",
    "    \"\"\"\n",
    "    Returns the dictionary from the iterable that has the most keys.\n",
    "    If multiple dictionaries are tied, returns the first one encountered.\n",
    "    Raises ValueError if the iterable is empty.\n",
    "    \"\"\"\n",
    "    try:\n",
    "        # `max` with key=len chooses the dict with the largest number of keys\n",
    "        return max(dicts, key=len)\n",
    "    except ValueError as e:\n",
    "        # This will occur if dicts is empty\n",
    "        raise ValueError(\"The input iterable must contain at least one dictionary\") from e\n",
    "\n"
   ],
   "id": "3f7013f33c98efee",
   "outputs": [],
   "execution_count": 1
  },
  {
   "metadata": {
    "ExecuteTime": {
     "end_time": "2025-06-18T12:34:28.377064Z",
     "start_time": "2025-06-18T12:34:28.202391Z"
    }
   },
   "cell_type": "code",
   "source": "unzst_directory(pathlib.Path(\"/Users/eric.louhi/Github/reach-data-experiments/data/earlywarning\"))\n",
   "id": "8f917c14a754f178",
   "outputs": [
    {
     "name": "stdout",
     "output_type": "stream",
     "text": [
      "Decompressing /Users/eric.louhi/Github/reach-data-experiments/data/earlywarning/users.zst → /Users/eric.louhi/Github/reach-data-experiments/data/earlywarning/users\n",
      "Decompressing /Users/eric.louhi/Github/reach-data-experiments/data/earlywarning/2025-01-07.zst → /Users/eric.louhi/Github/reach-data-experiments/data/earlywarning/2025-01-07\n",
      "Decompressing /Users/eric.louhi/Github/reach-data-experiments/data/earlywarning/okta_logs.zst → /Users/eric.louhi/Github/reach-data-experiments/data/earlywarning/okta_logs\n",
      "Decompressing /Users/eric.louhi/Github/reach-data-experiments/data/earlywarning/azure_ad.zst → /Users/eric.louhi/Github/reach-data-experiments/data/earlywarning/azure_ad\n",
      "Decompressing /Users/eric.louhi/Github/reach-data-experiments/data/earlywarning/crowdstrike_configs.zst → /Users/eric.louhi/Github/reach-data-experiments/data/earlywarning/crowdstrike_configs\n"
     ]
    }
   ],
   "execution_count": 3
  },
  {
   "metadata": {
    "ExecuteTime": {
     "end_time": "2025-06-18T13:02:11.479442Z",
     "start_time": "2025-06-18T13:02:11.162919Z"
    }
   },
   "cell_type": "code",
   "source": [
    "az_ad_data: list[dict[str, Any]] = []\n",
    "with open(\"../data/earlywarning/azure_ad\", 'r') as f:\n",
    "    az_ad_data = json.load(f)"
   ],
   "id": "932f58b89275359",
   "outputs": [],
   "execution_count": 2
  },
  {
   "metadata": {
    "ExecuteTime": {
     "end_time": "2025-06-18T13:02:11.621916Z",
     "start_time": "2025-06-18T13:02:11.618353Z"
    }
   },
   "cell_type": "code",
   "source": [
    "az_users = az_ad_data[\"users\"]\n",
    "az_users[0]"
   ],
   "id": "bfcab1fbc8a5b3a3",
   "outputs": [
    {
     "data": {
      "text/plain": [
       "{'displayName': 'On-Premises Directory Synchronization Service Account',\n",
       " 'mailNickname': 'Sync_S8150CAWV_2ca7fb000046',\n",
       " 'userType': 'Member',\n",
       " 'accountEnabled': True,\n",
       " 'passwordPolicies': 'DisablePasswordExpiration',\n",
       " 'userPrincipalName': 'Sync_S8150CAWV_2ca7fb000046@earlywarningservices.onmicrosoft.com',\n",
       " 'id': 'aa736530-e846-4f93-bd48-9366ce532039',\n",
       " 'transitiveMemberOf': [],\n",
       " 'devices': []}"
      ]
     },
     "execution_count": 3,
     "metadata": {},
     "output_type": "execute_result"
    }
   ],
   "execution_count": 3
  },
  {
   "metadata": {
    "ExecuteTime": {
     "end_time": "2025-06-18T13:02:13.477240Z",
     "start_time": "2025-06-18T13:02:13.471543Z"
    }
   },
   "cell_type": "code",
   "source": "dict_with_most_keys(az_users)",
   "id": "239bdabb5abaf6db",
   "outputs": [
    {
     "data": {
      "text/plain": [
       "{'displayName': 'Galle, Shelly',\n",
       " 'mailNickname': 'joenss',\n",
       " 'givenName': 'Shelly',\n",
       " 'surname': 'Galle',\n",
       " 'jobTitle': 'Sr. Privacy Office Manager',\n",
       " 'department': 'Privacy and Data Risk Management',\n",
       " 'mail': 'Shelly.Galle@earlywarning.com',\n",
       " 'proxyAddresses': ['SMTP:Shelly.Galle@earlywarning.com',\n",
       "  'smtp:Shelly.Joens@earlywarning.com',\n",
       "  'smtp:joenss@earlywarningservices.onmicrosoft.com',\n",
       "  'X500:/o=EWS/ou=Exchange Administrative Group (FYDIBOHF23SPDLT)/cn=Recipients/cn=Joens, Shelly329',\n",
       "  'smtp:Shelly.Galle@earlywarningservices.mail.onmicrosoft.com',\n",
       "  'x500:/o=ExchangeLabs/ou=Exchange Administrative Group (FYDIBOHF23SPDLT)/cn=Recipients/cn=ffd50fa207f94f319c6f31c4a35a056d-Galle, Shel',\n",
       "  'X500:/o=EWS/ou=External (FYDIBOHF25SPDLT)/cn=Recipients/cn=cc4c193a95be4a1791b27d8a545d1728'],\n",
       " 'userType': 'Member',\n",
       " 'employeeType': 'Regular',\n",
       " 'accountEnabled': True,\n",
       " 'companyName': 'Early Warning Services, LLC',\n",
       " 'onPremisesDistinguishedName': 'CN=Galle\\\\, Shelly,OU=FCRA Compliance,OU=Customer Implementation and Support,OU=Technology and Operations,OU=Scottsdale,OU=End Users and Systems,DC=EWS,DC=INT',\n",
       " 'passwordPolicies': 'DisablePasswordExpiration',\n",
       " 'deletedDateTime': None,\n",
       " 'city': 'Scottsdale',\n",
       " 'state': 'Arizona',\n",
       " 'country': 'United States',\n",
       " 'streetAddress': '5801 N. Pima Rd',\n",
       " 'userPrincipalName': 'Shelly.Galle@earlywarning.com',\n",
       " 'onPremisesSamAccountName': 'joenss',\n",
       " 'id': 'caa9349e-c17c-464e-9e8e-5877eb3e8fd0',\n",
       " 'manager@delta': [{'@odata.type': '#microsoft.graph.user',\n",
       "   'id': '3c8d3aa1-b221-48ea-96dd-b47f632d2d56'}],\n",
       " 'manager': '3c8d3aa1-b221-48ea-96dd-b47f632d2d56',\n",
       " 'transitiveMemberOf': ['eb8a69d1-205a-40b3-8b8a-656865d3aac1',\n",
       "  '4681612d-2968-4c68-bee9-f4ed33e40acb',\n",
       "  '811d2f11-d6a1-4f3a-90b9-a9456c771a15',\n",
       "  '0d8a0765-5d6a-43a6-8d99-a3e852523397',\n",
       "  '45e26e42-edf5-4c7c-92b4-43dac35a37c7',\n",
       "  'd2592fb0-58f7-4aa7-961a-68f9f8a04f4d',\n",
       "  'e73842e8-c771-4ea2-a83d-1dfed9a00558',\n",
       "  '83becef0-e2af-4dfc-9ade-d27c25b6a869',\n",
       "  '137d0f90-b7d9-4f16-a070-c824ebf531d2',\n",
       "  'c0ac7ff5-14a0-439a-a224-111a8340219a',\n",
       "  '7b142007-fd86-4180-aea7-47865aab9ce4',\n",
       "  'a9cc7b95-f083-483f-8a8e-2f9d7a2e1d17',\n",
       "  '96bca7c3-d960-47e0-b8f8-bb65ac92c19d',\n",
       "  '5ece3e4c-2fd9-4d96-be02-e90a83d9aea5',\n",
       "  '72943fe6-c06e-4b02-913a-ffe0fb88c530',\n",
       "  '76640b18-65d1-4897-a8e8-14b18ed8e3ff',\n",
       "  '47a92302-2bcd-4e15-994e-35c98109bc6d',\n",
       "  'cb4b7d75-4710-438a-87c6-ae3523130083',\n",
       "  'e7042c82-1915-4d11-a886-e8847209155d',\n",
       "  'c7d376d8-427a-4899-951d-6789813249e5',\n",
       "  '747bfb70-9767-4f78-bff8-7119f00863c9',\n",
       "  'fee50720-0eea-414c-aa78-03213bbfc4ae',\n",
       "  'bcda8ceb-9dc4-4dbe-87b6-116a47c7c3df',\n",
       "  'dd3a8ebb-275d-4040-b90c-c1c4eedba7ba',\n",
       "  '42735f65-d1b5-4371-8f5f-d643a63e90e6',\n",
       "  '71d6aac9-34de-45d2-bb06-aaed00cba54a',\n",
       "  'e5a93091-d06f-43e2-bfcb-2124be9f5878',\n",
       "  '94d334d2-7adc-43cd-a24f-ea05a6fb2d1b',\n",
       "  '21dd8b03-e900-4364-93d5-7bef2bbad01a',\n",
       "  '124ce233-e21e-4e3f-a080-a4b2ed02f14e',\n",
       "  'ae810ba0-b90a-4e5f-bfdb-dceaf15d17b1',\n",
       "  'ee8dfe7f-fe68-49c8-b345-42d56d738d52',\n",
       "  '4ad796d9-6f2f-4955-8efe-eff51719d504',\n",
       "  'e0d0ec76-d6ec-4d5f-8bdf-df8d4c5d789f',\n",
       "  '711de438-b15d-4d5a-927f-b39aaa3c0574',\n",
       "  '93b88d71-db4a-4215-96ce-b59328c1bce1',\n",
       "  'b219efb2-67c8-4e62-99b1-32515296d512',\n",
       "  '15964f82-c9ff-4ccd-89ac-a7aa8d5da91f',\n",
       "  '3b143fd4-6779-4a86-87c8-fd231f31eea3',\n",
       "  'f6a490e3-d4ca-4bfe-8fbf-d9a39420237a',\n",
       "  '68bc6924-700f-40f7-864f-2e4333b3204a',\n",
       "  'f9ff010b-9ebc-4def-934f-f798bdaa7714',\n",
       "  '10a8f4c1-81c1-45b5-b842-35463d82b34a',\n",
       "  '0c6c9184-859f-4898-876c-057ce6aeabb8',\n",
       "  'e77e1765-c6f2-4344-952b-ee427209230e',\n",
       "  '2355cf3b-4ba2-4422-958f-3d523399d2f3',\n",
       "  '229ee207-730b-4561-8682-d9841a271995',\n",
       "  '32fe930a-06b0-4ddd-9314-1b2ae72f368e',\n",
       "  '1a1a65ee-1f2b-4bb5-b679-495ceaca5f8f',\n",
       "  'e14f32b6-5c3c-403c-811c-c9ba93f65d73',\n",
       "  '271553de-0bcd-4dc7-8dff-793f3526e04c',\n",
       "  'a6a2fd6d-177f-4b1e-9072-b49a1ac7112c',\n",
       "  '8f938418-cdcd-423d-876f-f303b4107556',\n",
       "  '79a89b44-56f6-4e98-80b9-5a726c562395',\n",
       "  '8fb92a4f-8bd0-4446-a19a-67145fe64007',\n",
       "  'c5de5319-9a01-4b9a-9b24-72e03dacc919',\n",
       "  'e3abb754-711e-45f0-9a01-3ae581ce7507',\n",
       "  'b71950d4-21a2-4c83-9434-78b25b178b07',\n",
       "  '3f6fd752-1705-4449-bdd3-d7e8c0509934',\n",
       "  'def214d1-3862-4082-853b-aa4352c8070a',\n",
       "  'c9a0e3c1-9155-4f8c-a2fb-283dbf8d04e7',\n",
       "  '4a6bb849-d383-4cf5-a456-9e320996e357',\n",
       "  'b6179a6f-6046-4c45-a025-ba065bbc15d6',\n",
       "  'aea983e9-099a-4de3-b464-9c74671cc1de',\n",
       "  '75d01367-6ae0-4185-acb9-75630c944788',\n",
       "  '483089db-24ee-4b15-bcc0-e196b289704c',\n",
       "  '892be694-8a60-43f5-bb5c-62a04acdcd2b',\n",
       "  'a5be3ded-50fe-4cdc-899a-a49ac973290d',\n",
       "  'e6a14bfa-c602-4d03-bd07-f8c1bc5ec2e7',\n",
       "  '99943524-eb93-4232-a427-9729a15fa738',\n",
       "  'a1934e35-c4fe-427e-b083-efe0d34ad903',\n",
       "  'e839c21b-c932-4a70-9b67-c971b7ddc799',\n",
       "  '331cac91-6b1f-46e2-a251-1b9eff33170d',\n",
       "  'c3e903c8-d8f1-421c-8efa-f202da065448',\n",
       "  '81908108-df6b-4860-b716-b9b59684cf31',\n",
       "  '0dd2f8b5-5094-4b26-b019-ae5a13a88a1b',\n",
       "  'a4c9b0f8-3052-4de4-a9d1-2ea550654ec5',\n",
       "  '35b26dc1-2794-406d-9f2e-c42c353c44f1',\n",
       "  '82ff660a-d40b-4025-af70-b786974e2e7b',\n",
       "  '90d4aae6-fd45-4da0-8362-9540e366be34',\n",
       "  'b42e29d0-120b-4626-87b2-eb2031d20b23',\n",
       "  'dc156ba2-f826-4cb6-b9fa-bdb7113d685d',\n",
       "  'df13fe74-5b6f-41bb-a5ae-ff927e542a77',\n",
       "  '6045fc76-79d0-4f5e-8708-5f35bd16ed15',\n",
       "  '443f9535-5e3c-4ef6-b2c4-3ebb8ebf7420',\n",
       "  '2f169df7-1552-45f2-bb85-1fbebbaa380a',\n",
       "  '3e6b002a-3b8c-4527-b178-7d36cc2a7674',\n",
       "  '0caa16f5-4f95-4975-b98f-50ee44f82b7e',\n",
       "  'eb9a2a6f-3271-4985-8624-9404fed1bbc6',\n",
       "  '90835115-61ea-4c1a-b5ed-b7aa5a64ecaf',\n",
       "  '0a2c179f-5f96-4f52-a3e1-81e5f7a98b08',\n",
       "  '4ac978cb-05ab-441a-95e2-242f13b67e0e',\n",
       "  '5af679d8-e103-4c8c-84c7-38c7e7f7cde1',\n",
       "  '9cadcb0c-1d02-42f5-8778-b37930f09ced',\n",
       "  '59d1910a-2180-4e4f-ad7c-0ce2b6ae7753',\n",
       "  '307d29bc-1ca4-408a-9038-365efe2fc018',\n",
       "  '48beb642-c048-405d-8856-b70181126a7d',\n",
       "  '4df517bd-6b5a-4098-84f1-2866a26e4586',\n",
       "  '69f1f1f5-6c02-435f-bc98-abc56ebf8ebb',\n",
       "  '9c2ebccb-aaf2-44ba-a1a2-ca52c1fd85ab',\n",
       "  '30d8221b-31b5-4da4-af84-8e4455f5a1a5',\n",
       "  '6192780e-6cc5-464f-90ed-ec4505356da3',\n",
       "  '2a4a3694-3d90-47c2-a20f-ff3d9bf57207',\n",
       "  '2bf93d84-56ad-4ad8-bc83-8f7465ef1412',\n",
       "  '96bd41aa-06dd-4c64-8271-efb780424e1b',\n",
       "  'e937f337-a226-447d-8cc5-0ce50ec40e7e',\n",
       "  '905c9230-b7db-4907-becc-6b49eaed7066',\n",
       "  '7d7b3ddc-4701-4bc0-a007-ee531a760d1c',\n",
       "  '66d6ea54-c405-4c2a-a20d-ded9218c2951',\n",
       "  '54498cd6-6a3f-4f11-92a3-8d004d63d99d',\n",
       "  '8817f945-d7e2-4835-a01a-f7dba9c285c7',\n",
       "  '7cbac6ac-2580-4f1a-97a9-e3556a84d45b',\n",
       "  '8c93ac49-3205-4534-b6b2-c4d648fbf2b7',\n",
       "  '9798c690-e27c-4ebd-a722-d30ef8193e36',\n",
       "  '607c6195-4ab8-4484-8b55-5f3011a05ff6',\n",
       "  '1fd966f4-2614-47f7-a718-707edb86afeb',\n",
       "  '6cb52bd1-bc83-4d5c-9a90-13e62ef66779',\n",
       "  '29819d1c-927f-4eeb-8b92-3be553c345be',\n",
       "  '35aad233-7e54-4dde-82a0-efc303ac08d9'],\n",
       " 'devices': [{'id': '517f6629-29a9-470f-8baf-e494d4b11d80',\n",
       "   'displayName': 'SCTLtBLB1XooAs4',\n",
       "   'operatingSystem': 'Windows',\n",
       "   'operatingSystemVersion': '10.0.19045.3208',\n",
       "   'profileType': 'RegisteredDevice',\n",
       "   'accountEnabled': True,\n",
       "   'approximateLastSignInDateTime': '2023-11-13T23:37:53Z',\n",
       "   'createdDateTime': '2021-04-08T19:15:28Z',\n",
       "   'deviceCategory': 'Corporate Device',\n",
       "   'deviceId': '84a994cd-d388-4533-9eed-4d64173fcfb6',\n",
       "   'deviceOwnership': 'Company',\n",
       "   'deviceVersion': 2,\n",
       "   'enrollmentProfileName': 'Hybrid Preprovision over VPN',\n",
       "   'enrollmentType': 'OnPremiseUsingWhiteGlove',\n",
       "   'isCompliant': False,\n",
       "   'isManaged': False,\n",
       "   'isRooted': False,\n",
       "   'managementType': 'MDM',\n",
       "   'manufacturer': 'Dell Inc.',\n",
       "   'mdmAppId': None,\n",
       "   'model': 'Precision 3560',\n",
       "   'registrationDateTime': '2022-08-23T09:32:45Z',\n",
       "   'trustType': 'Workplace'},\n",
       "  {'id': 'beb8ae3e-23fc-4d37-b2b3-7f9cf9c0e7e0',\n",
       "   'displayName': 'SCTL5UTbNVnpO0f',\n",
       "   'operatingSystem': 'Windows',\n",
       "   'operatingSystemVersion': '10.0.19041.264',\n",
       "   'profileType': 'Shared',\n",
       "   'accountEnabled': True,\n",
       "   'approximateLastSignInDateTime': '2021-04-15T15:53:51Z',\n",
       "   'createdDateTime': '2020-10-05T20:05:21Z',\n",
       "   'deviceId': 'a7aebe18-95a5-463d-81e5-85fc2bbbd3f9',\n",
       "   'deviceOwnership': 'Company',\n",
       "   'deviceVersion': 2,\n",
       "   'enrollmentProfileName': 'Hybrid Preprovision over VPN',\n",
       "   'enrollmentType': 'OnPremiseUsingWhiteGlove',\n",
       "   'isCompliant': True,\n",
       "   'isManaged': True,\n",
       "   'isRooted': False,\n",
       "   'managementType': 'MDM',\n",
       "   'manufacturer': 'Dell Inc.',\n",
       "   'mdmAppId': '54b943f8-d761-4f8d-951e-9cea1846db5a',\n",
       "   'model': 'Latitude 7400 2-in-1',\n",
       "   'registrationDateTime': '2020-10-05T13:05:21Z',\n",
       "   'trustType': 'Workplace'},\n",
       "  {'id': '0bfe9169-904d-47f8-a4ab-2b14bbd94db0',\n",
       "   'displayName': 'Shelly',\n",
       "   'operatingSystem': 'IPhone',\n",
       "   'operatingSystemVersion': '18.1.1',\n",
       "   'profileType': 'RegisteredDevice',\n",
       "   'accountEnabled': True,\n",
       "   'approximateLastSignInDateTime': '2024-12-29T12:06:56Z',\n",
       "   'createdDateTime': '2021-11-22T15:51:50Z',\n",
       "   'deviceCategory': 'Personal Device',\n",
       "   'deviceId': '09029fd6-0583-45b0-b91f-288d73108d66',\n",
       "   'deviceOwnership': 'Personal',\n",
       "   'deviceVersion': 2,\n",
       "   'enrollmentType': 'UserEnrollment',\n",
       "   'isCompliant': True,\n",
       "   'isManaged': True,\n",
       "   'isRooted': False,\n",
       "   'managementType': 'MDM',\n",
       "   'manufacturer': 'Apple',\n",
       "   'mdmAppId': '0000000a-0000-0000-c000-000000000000',\n",
       "   'model': 'iPhone 11 Pro Max',\n",
       "   'registrationDateTime': '2021-11-22T07:51:50Z',\n",
       "   'trustType': 'Workplace'},\n",
       "  {'id': 'f3d7b005-0eb7-4a07-8358-d140123cbc4d',\n",
       "   'displayName': 'iPhone',\n",
       "   'operatingSystem': 'IPhone',\n",
       "   'operatingSystemVersion': '15.1',\n",
       "   'profileType': 'RegisteredDevice',\n",
       "   'accountEnabled': True,\n",
       "   'approximateLastSignInDateTime': '2021-11-13T14:41:03Z',\n",
       "   'createdDateTime': '2021-06-23T22:12:16Z',\n",
       "   'deviceCategory': 'Personal Device',\n",
       "   'deviceId': '079fc49c-fbc9-4b74-9837-0a5b7ead4b2e',\n",
       "   'deviceOwnership': 'Personal',\n",
       "   'deviceVersion': 2,\n",
       "   'enrollmentType': 'UserEnrollment',\n",
       "   'isCompliant': False,\n",
       "   'isManaged': False,\n",
       "   'isRooted': False,\n",
       "   'managementType': 'MDM',\n",
       "   'manufacturer': 'Apple',\n",
       "   'mdmAppId': None,\n",
       "   'model': 'iPhone X',\n",
       "   'registrationDateTime': '2021-06-23T15:12:15Z',\n",
       "   'trustType': 'Workplace'},\n",
       "  {'id': 'f5105ab2-36f5-4c39-9623-bbb234df76ea',\n",
       "   'displayName': 'SCTLIbrD3Q5kMXU',\n",
       "   'operatingSystem': 'Windows',\n",
       "   'operatingSystemVersion': '10.0.22631.3155',\n",
       "   'profileType': 'RegisteredDevice',\n",
       "   'accountEnabled': True,\n",
       "   'approximateLastSignInDateTime': '2024-02-12T15:00:04Z',\n",
       "   'createdDateTime': '2024-02-01T21:08:09Z',\n",
       "   'deviceId': 'a400a4eb-91db-4deb-9e75-450ff5b6a666',\n",
       "   'deviceOwnership': 'Company',\n",
       "   'deviceVersion': 2,\n",
       "   'enrollmentProfileName': 'Hybrid Preprovision over VPN',\n",
       "   'enrollmentType': 'OnPremiseUsingWhiteGlove',\n",
       "   'isCompliant': False,\n",
       "   'isManaged': False,\n",
       "   'isRooted': False,\n",
       "   'managementType': 'MDM',\n",
       "   'manufacturer': 'Dell Inc.',\n",
       "   'mdmAppId': None,\n",
       "   'model': 'Precision 3480',\n",
       "   'registrationDateTime': '2024-02-01T13:08:09Z',\n",
       "   'trustType': 'Workplace'}]}"
      ]
     },
     "execution_count": 4,
     "metadata": {},
     "output_type": "execute_result"
    }
   ],
   "execution_count": 4
  },
  {
   "metadata": {
    "ExecuteTime": {
     "end_time": "2025-06-18T13:19:06.434099Z",
     "start_time": "2025-06-18T13:19:06.100203Z"
    }
   },
   "cell_type": "code",
   "source": [
    "# Load the list of dictionaries into a Polars DataFrame\n",
    "az_user_df = pl.DataFrame(az_users)\n",
    "\n",
    "# Explode the array field to individual rows, then aggregate the counts\n",
    "aggregated_counts = (\n",
    "    az_user_df.with_columns(pl.col(\"devices\").list.len().alias(\"device_count\"))  # length of each list\n",
    "    .group_by(\"device_count\")                                       # group by that length\n",
    "    .agg(pl.count(\"id\").alias(\"user_count\"))                     # count IDs per length\n",
    "    .sort([\"user_count\"], descending=True)\n",
    ")\n",
    "filtered_az_user_df = aggregated_counts.filter(pl.col(\"device_count\")>=1)\n",
    "filtered_az_user_df.write_csv(\"../data/earlywarning/ad-users-devices.csv\")\n",
    "print(filtered_az_user_df)\n"
   ],
   "id": "4124514c22f301ba",
   "outputs": [
    {
     "name": "stdout",
     "output_type": "stream",
     "text": [
      "shape: (33, 2)\n",
      "┌──────────────┬────────────┐\n",
      "│ device_count ┆ user_count │\n",
      "│ ---          ┆ ---        │\n",
      "│ u32          ┆ u32        │\n",
      "╞══════════════╪════════════╡\n",
      "│ 2            ┆ 339        │\n",
      "│ 1            ┆ 304        │\n",
      "│ 3            ┆ 296        │\n",
      "│ 4            ┆ 205        │\n",
      "│ 5            ┆ 139        │\n",
      "│ …            ┆ …          │\n",
      "│ 54           ┆ 1          │\n",
      "│ 41           ┆ 1          │\n",
      "│ 38           ┆ 1          │\n",
      "│ 29           ┆ 1          │\n",
      "│ 26           ┆ 1          │\n",
      "└──────────────┴────────────┘\n"
     ]
    }
   ],
   "execution_count": 22
  },
  {
   "metadata": {
    "ExecuteTime": {
     "end_time": "2025-06-18T13:14:41.039265Z",
     "start_time": "2025-06-18T13:14:41.010954Z"
    }
   },
   "cell_type": "code",
   "source": [
    "# hist_chart\n",
    "chart = filtered_az_user_df[\"device_count\"].plot.hist()\n",
    "chart"
   ],
   "id": "47f767f94596cb4",
   "outputs": [
    {
     "data": {
      "text/html": [
       "\n",
       "<style>\n",
       "  #altair-viz-57b66b56391c4dfe8748494a5b1d64d4.vega-embed {\n",
       "    width: 100%;\n",
       "    display: flex;\n",
       "  }\n",
       "\n",
       "  #altair-viz-57b66b56391c4dfe8748494a5b1d64d4.vega-embed details,\n",
       "  #altair-viz-57b66b56391c4dfe8748494a5b1d64d4.vega-embed details summary {\n",
       "    position: relative;\n",
       "  }\n",
       "</style>\n",
       "<div id=\"altair-viz-57b66b56391c4dfe8748494a5b1d64d4\"></div>\n",
       "<script type=\"text/javascript\">\n",
       "  var VEGA_DEBUG = (typeof VEGA_DEBUG == \"undefined\") ? {} : VEGA_DEBUG;\n",
       "  (function(spec, embedOpt){\n",
       "    let outputDiv = document.currentScript.previousElementSibling;\n",
       "    if (outputDiv.id !== \"altair-viz-57b66b56391c4dfe8748494a5b1d64d4\") {\n",
       "      outputDiv = document.getElementById(\"altair-viz-57b66b56391c4dfe8748494a5b1d64d4\");\n",
       "    }\n",
       "\n",
       "    const paths = {\n",
       "      \"vega\": \"https://cdn.jsdelivr.net/npm/vega@5?noext\",\n",
       "      \"vega-lib\": \"https://cdn.jsdelivr.net/npm/vega-lib?noext\",\n",
       "      \"vega-lite\": \"https://cdn.jsdelivr.net/npm/vega-lite@5.20.1?noext\",\n",
       "      \"vega-embed\": \"https://cdn.jsdelivr.net/npm/vega-embed@6?noext\",\n",
       "    };\n",
       "\n",
       "    function maybeLoadScript(lib, version) {\n",
       "      var key = `${lib.replace(\"-\", \"\")}_version`;\n",
       "      return (VEGA_DEBUG[key] == version) ?\n",
       "        Promise.resolve(paths[lib]) :\n",
       "        new Promise(function(resolve, reject) {\n",
       "          var s = document.createElement('script');\n",
       "          document.getElementsByTagName(\"head\")[0].appendChild(s);\n",
       "          s.async = true;\n",
       "          s.onload = () => {\n",
       "            VEGA_DEBUG[key] = version;\n",
       "            return resolve(paths[lib]);\n",
       "          };\n",
       "          s.onerror = () => reject(`Error loading script: ${paths[lib]}`);\n",
       "          s.src = paths[lib];\n",
       "        });\n",
       "    }\n",
       "\n",
       "    function showError(err) {\n",
       "      outputDiv.innerHTML = `<div class=\"error\" style=\"color:red;\">${err}</div>`;\n",
       "      throw err;\n",
       "    }\n",
       "\n",
       "    function displayChart(vegaEmbed) {\n",
       "      vegaEmbed(outputDiv, spec, embedOpt)\n",
       "        .catch(err => showError(`Javascript Error: ${err.message}<br>This usually means there's a typo in your chart specification. See the javascript console for the full traceback.`));\n",
       "    }\n",
       "\n",
       "    if(typeof define === \"function\" && define.amd) {\n",
       "      requirejs.config({paths});\n",
       "      let deps = [\"vega-embed\"];\n",
       "      require(deps, displayChart, err => showError(`Error loading script: ${err.message}`));\n",
       "    } else {\n",
       "      maybeLoadScript(\"vega\", \"5\")\n",
       "        .then(() => maybeLoadScript(\"vega-lite\", \"5.20.1\"))\n",
       "        .then(() => maybeLoadScript(\"vega-embed\", \"6\"))\n",
       "        .catch(showError)\n",
       "        .then(() => displayChart(vegaEmbed));\n",
       "    }\n",
       "  })({\"config\": {\"view\": {\"continuousWidth\": 300, \"continuousHeight\": 300}}, \"data\": {\"name\": \"data-49e25ff32b9031264c2bc87f6ffb91d8\"}, \"mark\": {\"type\": \"bar\", \"tooltip\": true}, \"encoding\": {\"x\": {\"bin\": true, \"field\": \"device_count\", \"type\": \"quantitative\"}, \"y\": {\"aggregate\": \"count\", \"type\": \"quantitative\"}}, \"params\": [{\"name\": \"param_7\", \"select\": {\"type\": \"interval\", \"encodings\": [\"x\", \"y\"]}, \"bind\": \"scales\"}], \"$schema\": \"https://vega.github.io/schema/vega-lite/v5.20.1.json\", \"datasets\": {\"data-49e25ff32b9031264c2bc87f6ffb91d8\": [{\"device_count\": 2}, {\"device_count\": 1}, {\"device_count\": 3}, {\"device_count\": 4}, {\"device_count\": 5}, {\"device_count\": 6}, {\"device_count\": 7}, {\"device_count\": 8}, {\"device_count\": 9}, {\"device_count\": 11}, {\"device_count\": 10}, {\"device_count\": 12}, {\"device_count\": 15}, {\"device_count\": 14}, {\"device_count\": 16}, {\"device_count\": 13}, {\"device_count\": 17}, {\"device_count\": 18}, {\"device_count\": 25}, {\"device_count\": 20}, {\"device_count\": 21}, {\"device_count\": 24}, {\"device_count\": 27}, {\"device_count\": 22}, {\"device_count\": 23}, {\"device_count\": 33}, {\"device_count\": 36}, {\"device_count\": 45}, {\"device_count\": 54}, {\"device_count\": 29}, {\"device_count\": 26}, {\"device_count\": 41}, {\"device_count\": 38}]}}, {\"mode\": \"vega-lite\"});\n",
       "</script>"
      ],
      "text/plain": [
       "alt.Chart(...)"
      ]
     },
     "execution_count": 21,
     "metadata": {},
     "output_type": "execute_result"
    }
   ],
   "execution_count": 21
  },
  {
   "metadata": {
    "ExecuteTime": {
     "end_time": "2025-06-18T14:14:31.055117Z",
     "start_time": "2025-06-18T14:14:31.042784Z"
    }
   },
   "cell_type": "code",
   "source": "",
   "id": "86fbaca008bea892",
   "outputs": [],
   "execution_count": 30
  },
  {
   "metadata": {
    "ExecuteTime": {
     "end_time": "2025-06-18T13:27:08.636212Z",
     "start_time": "2025-06-18T13:27:08.626564Z"
    }
   },
   "cell_type": "code",
   "source": "print(aggregated_counts)",
   "id": "f8cc987a0a49e39b",
   "outputs": [
    {
     "name": "stdout",
     "output_type": "stream",
     "text": [
      "shape: (34, 2)\n",
      "┌──────────────┬────────────┐\n",
      "│ device_count ┆ user_count │\n",
      "│ ---          ┆ ---        │\n",
      "│ u32          ┆ u32        │\n",
      "╞══════════════╪════════════╡\n",
      "│ 0            ┆ 808        │\n",
      "│ 2            ┆ 339        │\n",
      "│ 1            ┆ 304        │\n",
      "│ 3            ┆ 296        │\n",
      "│ 4            ┆ 205        │\n",
      "│ …            ┆ …          │\n",
      "│ 54           ┆ 1          │\n",
      "│ 41           ┆ 1          │\n",
      "│ 38           ┆ 1          │\n",
      "│ 29           ┆ 1          │\n",
      "│ 26           ┆ 1          │\n",
      "└──────────────┴────────────┘\n"
     ]
    }
   ],
   "execution_count": 24
  },
  {
   "metadata": {
    "ExecuteTime": {
     "end_time": "2025-06-18T14:17:24.007200Z",
     "start_time": "2025-06-18T14:17:23.976111Z"
    }
   },
   "cell_type": "code",
   "source": [
    "az_users\n",
    "# pl.col(\"devices\").list.len().alias(\"device_count\")\n",
    "filtered_az_user_device_cnt_df = az_user_df.filter(pl.col(\"devices\").list.len()==339),\n"
   ],
   "id": "2ccb9741bfe6d7c3",
   "outputs": [],
   "execution_count": 41
  },
  {
   "metadata": {
    "ExecuteTime": {
     "end_time": "2025-06-18T14:17:24.803010Z",
     "start_time": "2025-06-18T14:17:24.798404Z"
    }
   },
   "cell_type": "code",
   "source": "filtered_az_user_device_cnt_df",
   "id": "2980f030a40e1bed",
   "outputs": [
    {
     "data": {
      "text/plain": [
       "(shape: (0, 21)\n",
       " ┌────────────┬────────────┬──────────┬───────────┬───┬───────────┬─────────┬───────────┬───────────┐\n",
       " │ displayNam ┆ mailNickna ┆ userType ┆ accountEn ┆ … ┆ manager@d ┆ manager ┆ otherMail ┆ identitie │\n",
       " │ e          ┆ me         ┆ ---      ┆ abled     ┆   ┆ elta      ┆ ---     ┆ s         ┆ s         │\n",
       " │ ---        ┆ ---        ┆ str      ┆ ---       ┆   ┆ ---       ┆ str     ┆ ---       ┆ ---       │\n",
       " │ str        ┆ str        ┆          ┆ bool      ┆   ┆ list[stru ┆         ┆ list[str] ┆ list[stru │\n",
       " │            ┆            ┆          ┆           ┆   ┆ ct[2]]    ┆         ┆           ┆ ct[3]]    │\n",
       " ╞════════════╪════════════╪══════════╪═══════════╪═══╪═══════════╪═════════╪═══════════╪═══════════╡\n",
       " └────────────┴────────────┴──────────┴───────────┴───┴───────────┴─────────┴───────────┴───────────┘,)"
      ]
     },
     "execution_count": 42,
     "metadata": {},
     "output_type": "execute_result"
    }
   ],
   "execution_count": 42
  },
  {
   "metadata": {
    "ExecuteTime": {
     "end_time": "2025-06-18T14:20:39.577647Z",
     "start_time": "2025-06-18T14:20:39.550780Z"
    }
   },
   "cell_type": "code",
   "source": "t_df = pl.DataFrame([x for x in az_users if len(x.get(\"devices\",[])) > 30])",
   "id": "a6e662c5c34e43aa",
   "outputs": [],
   "execution_count": 50
  },
  {
   "metadata": {
    "ExecuteTime": {
     "end_time": "2025-06-18T14:20:40.913298Z",
     "start_time": "2025-06-18T14:20:40.907189Z"
    }
   },
   "cell_type": "code",
   "source": "t_df",
   "id": "24be781bf4d6614d",
   "outputs": [
    {
     "data": {
      "text/plain": [
       "shape: (6, 25)\n",
       "┌───────────┬───────────┬───────────┬───────────┬───┬───────────┬───────────┬───────────┬──────────┐\n",
       "│ displayNa ┆ mailNickn ┆ givenName ┆ surname   ┆ … ┆ manager@d ┆ manager   ┆ transitiv ┆ devices  │\n",
       "│ me        ┆ ame       ┆ ---       ┆ ---       ┆   ┆ elta      ┆ ---       ┆ eMemberOf ┆ ---      │\n",
       "│ ---       ┆ ---       ┆ str       ┆ str       ┆   ┆ ---       ┆ str       ┆ ---       ┆ list[str │\n",
       "│ str       ┆ str       ┆           ┆           ┆   ┆ list[stru ┆           ┆ list[str] ┆ uct[25]] │\n",
       "│           ┆           ┆           ┆           ┆   ┆ ct[2]]    ┆           ┆           ┆          │\n",
       "╞═══════════╪═══════════╪═══════════╪═══════════╪═══╪═══════════╪═══════════╪═══════════╪══════════╡\n",
       "│ Gajulapal ┆ gajulapk  ┆ Krishna   ┆ Gajulapal ┆ … ┆ [{\"#micro ┆ 88ab9f8f- ┆ [\"6fcd6ed ┆ [{\"e86aa │\n",
       "│ li,       ┆           ┆           ┆ li        ┆   ┆ soft.grap ┆ f5e6-4bf3 ┆ c-e490-44 ┆ 2d4-3495 │\n",
       "│ Krishna   ┆           ┆           ┆           ┆   ┆ h.user\",\" ┆ -b8fc-614 ┆ 3e-b2ed-0 ┆ -4856-a6 │\n",
       "│           ┆           ┆           ┆           ┆   ┆ 88a…      ┆ 6df…      ┆ 6a4…      ┆ 58-971…  │\n",
       "│ Goodgame, ┆ goodgach  ┆ Christoph ┆ Goodgame  ┆ … ┆ [{\"#micro ┆ d9d2b03d- ┆ [\"eb8a69d ┆ [{\"6f327 │\n",
       "│ Christoph ┆           ┆ er        ┆           ┆   ┆ soft.grap ┆ 3833-42bf ┆ 1-205a-40 ┆ 70e-5a56 │\n",
       "│ er        ┆           ┆           ┆           ┆   ┆ h.user\",\" ┆ -af5c-2ca ┆ b3-8b8a-6 ┆ -48f8-93 │\n",
       "│           ┆           ┆           ┆           ┆   ┆ d9d…      ┆ b2c…      ┆ 568…      ┆ d3-8db…  │\n",
       "│ Aaron,    ┆ aarond    ┆ Dinah     ┆ Aaron     ┆ … ┆ [{\"#micro ┆ ac57388b- ┆ [\"eb8a69d ┆ [{\"77d47 │\n",
       "│ Dinah     ┆           ┆           ┆           ┆   ┆ soft.grap ┆ 9ba0-4e51 ┆ 1-205a-40 ┆ 8cc-37a9 │\n",
       "│           ┆           ┆           ┆           ┆   ┆ h.user\",\" ┆ -bb5d-50f ┆ b3-8b8a-6 ┆ -4c9f-96 │\n",
       "│           ┆           ┆           ┆           ┆   ┆ ac5…      ┆ 7ef…      ┆ 568…      ┆ 2d-d66…  │\n",
       "│ Woolridge ┆ woolridd  ┆ Davin     ┆ Woolridge ┆ … ┆ [{\"#micro ┆ ad39eb66- ┆ [\"aaca1fb ┆ [{\"cf8af │\n",
       "│ , Davin   ┆           ┆           ┆           ┆   ┆ soft.grap ┆ 0212-4164 ┆ 1-3dfe-48 ┆ 278-55d9 │\n",
       "│           ┆           ┆           ┆           ┆   ┆ h.user\",\" ┆ -a14b-fe6 ┆ 1d-a0f4-c ┆ -474b-85 │\n",
       "│           ┆           ┆           ┆           ┆   ┆ ad3…      ┆ 38f…      ┆ 770…      ┆ ff-4a9…  │\n",
       "│ Richards, ┆ richarc   ┆ Chris     ┆ Richards  ┆ … ┆ [{\"#micro ┆ 654254f3- ┆ [\"6fcd6ed ┆ [{\"96ce2 │\n",
       "│ Chris     ┆           ┆           ┆           ┆   ┆ soft.grap ┆ 8f83-4ec5 ┆ c-e490-44 ┆ 92e-3630 │\n",
       "│           ┆           ┆           ┆           ┆   ┆ h.user\",\" ┆ -87a0-ffd ┆ 3e-b2ed-0 ┆ -4c64-a7 │\n",
       "│           ┆           ┆           ┆           ┆   ┆ 654…      ┆ af7…      ┆ 6a4…      ┆ 72-927…  │\n",
       "│ Hon,      ┆ honp      ┆ Preston   ┆ Hon       ┆ … ┆ [{\"#micro ┆ 88ab9f8f- ┆ [\"8bc382d ┆ [{\"f50ff │\n",
       "│ Preston   ┆           ┆           ┆           ┆   ┆ soft.grap ┆ f5e6-4bf3 ┆ 1-f63d-45 ┆ f71-481d │\n",
       "│           ┆           ┆           ┆           ┆   ┆ h.user\",\" ┆ -b8fc-614 ┆ 69-a4ec-a ┆ -4d63-b7 │\n",
       "│           ┆           ┆           ┆           ┆   ┆ 88a…      ┆ 6df…      ┆ 301…      ┆ 4a-020…  │\n",
       "└───────────┴───────────┴───────────┴───────────┴───┴───────────┴───────────┴───────────┴──────────┘"
      ],
      "text/html": [
       "<div><style>\n",
       ".dataframe > thead > tr,\n",
       ".dataframe > tbody > tr {\n",
       "  text-align: right;\n",
       "  white-space: pre-wrap;\n",
       "}\n",
       "</style>\n",
       "<small>shape: (6, 25)</small><table border=\"1\" class=\"dataframe\"><thead><tr><th>displayName</th><th>mailNickname</th><th>givenName</th><th>surname</th><th>jobTitle</th><th>department</th><th>mail</th><th>proxyAddresses</th><th>userType</th><th>employeeType</th><th>accountEnabled</th><th>companyName</th><th>onPremisesDistinguishedName</th><th>passwordPolicies</th><th>city</th><th>state</th><th>country</th><th>streetAddress</th><th>userPrincipalName</th><th>onPremisesSamAccountName</th><th>id</th><th>manager@delta</th><th>manager</th><th>transitiveMemberOf</th><th>devices</th></tr><tr><td>str</td><td>str</td><td>str</td><td>str</td><td>str</td><td>str</td><td>str</td><td>list[str]</td><td>str</td><td>str</td><td>bool</td><td>str</td><td>str</td><td>str</td><td>str</td><td>str</td><td>str</td><td>str</td><td>str</td><td>str</td><td>str</td><td>list[struct[2]]</td><td>str</td><td>list[str]</td><td>list[struct[25]]</td></tr></thead><tbody><tr><td>&quot;Gajulapalli, Krishna&quot;</td><td>&quot;gajulapk&quot;</td><td>&quot;Krishna&quot;</td><td>&quot;Gajulapalli&quot;</td><td>&quot;Sr. Software Engineer - Java&quot;</td><td>&quot;Product Engineering - Zelle&quot;</td><td>&quot;Krishna.Gajulapalli@earlywarni…</td><td>[&quot;SMTP:Krishna.Gajulapalli@earlywarning.com&quot;, &quot;smtp:Krishna.Gajulapalli@earlywarningservices.onmicrosoft.com&quot;, … &quot;X500:/o=EWS/ou=External (FYDIBOHF25SPDLT)/cn=Recipients/cn=7764e7e4db644f5bb96e8111438f27da&quot;]</td><td>&quot;Member&quot;</td><td>&quot;Regular&quot;</td><td>true</td><td>&quot;Early Warning Services, LLC&quot;</td><td>&quot;CN=Gajulapalli\\, Krishna,OU=So…</td><td>&quot;DisablePasswordExpiration&quot;</td><td>&quot;Scottsdale&quot;</td><td>&quot;Arizona&quot;</td><td>&quot;United States&quot;</td><td>&quot;5801 N. Pima Rd&quot;</td><td>&quot;Krishna.Gajulapalli@earlywarni…</td><td>&quot;gajulapk&quot;</td><td>&quot;391b13e0-979f-4f0d-be8e-819589…</td><td>[{&quot;#microsoft.graph.user&quot;,&quot;88ab9f8f-f5e6-4bf3-b8fc-6146dfd9fe88&quot;}]</td><td>&quot;88ab9f8f-f5e6-4bf3-b8fc-6146df…</td><td>[&quot;6fcd6edc-e490-443e-b2ed-06a41b9d5f4a&quot;, &quot;8bc382d1-f63d-4569-a4ec-a301b756c25c&quot;, … &quot;3109d342-be42-4565-8726-193fd6c27b4e&quot;]</td><td>[{&quot;e86aa2d4-3495-4856-a658-9717bb54a970&quot;,&quot;MN93XFCCX4&quot;,&quot;MacOS&quot;,&quot;12.5.1&quot;,&quot;RegisteredDevice&quot;,true,&quot;2022-09-13T17:23:01Z&quot;,&quot;2022-09-13T17:23:01Z&quot;,null,&quot;7351d8f5-b375-4182-b2c4-2b2fcc1f2980&quot;,null,null,null,null,null,null,null,null,null,null,null,null,&quot;2022-09-13T10:23:01Z&quot;,&quot;Workplace&quot;,2}, {&quot;c30da7db-5aaa-48cc-a1f0-0f8e9757ad43&quot;,&quot;MN93XFCCX4&quot;,&quot;MacOS&quot;,&quot;12.5.0&quot;,&quot;RegisteredDevice&quot;,true,&quot;2022-08-17T15:31:55Z&quot;,&quot;2022-08-17T15:31:55Z&quot;,null,&quot;eeac05a1-a455-4b94-9dd2-0092d154809e&quot;,null,null,null,null,null,null,null,null,null,null,null,null,&quot;2022-08-17T08:31:55Z&quot;,&quot;Workplace&quot;,2}, … {&quot;b4012aba-8df2-442b-99ca-f34e170b798f&quot;,&quot;MN93XFCCX4&quot;,&quot;MacOS&quot;,&quot;12.5.1&quot;,&quot;RegisteredDevice&quot;,true,&quot;2022-09-13T13:12:48Z&quot;,&quot;2022-09-13T13:12:48Z&quot;,null,&quot;144b9e12-c334-40a4-8fb9-f01ef5c7fd32&quot;,null,null,null,null,null,null,null,null,null,null,null,null,&quot;2022-09-13T06:12:48Z&quot;,&quot;Workplace&quot;,2}]</td></tr><tr><td>&quot;Goodgame, Christopher&quot;</td><td>&quot;goodgach&quot;</td><td>&quot;Christopher&quot;</td><td>&quot;Goodgame&quot;</td><td>&quot;IT Asset Specialist II&quot;</td><td>&quot;IT Asset Management&quot;</td><td>&quot;Christopher.Goodgame@earlywarn…</td><td>[&quot;SMTP:Christopher.Goodgame@earlywarning.com&quot;, &quot;smtp:goodgach@earlywarningservices.onmicrosoft.com&quot;, … &quot;X500:/o=EWS/ou=External (FYDIBOHF25SPDLT)/cn=Recipients/cn=ed69e648351f44bfa77786f7d90c6606&quot;]</td><td>&quot;Member&quot;</td><td>&quot;Regular&quot;</td><td>true</td><td>&quot;Early Warning Services, LLC&quot;</td><td>&quot;CN=Goodgame\\, Christopher,OU=D…</td><td>&quot;DisablePasswordExpiration&quot;</td><td>&quot;Scottsdale&quot;</td><td>&quot;Arizona&quot;</td><td>null</td><td>&quot;5801 N. Pima Rd&quot;</td><td>&quot;Christopher.Goodgame@earlywarn…</td><td>&quot;goodgach&quot;</td><td>&quot;20827d7b-40df-4486-b02d-7ed416…</td><td>[{&quot;#microsoft.graph.user&quot;,&quot;d9d2b03d-3833-42bf-af5c-2cab2c861906&quot;}]</td><td>&quot;d9d2b03d-3833-42bf-af5c-2cab2c…</td><td>[&quot;eb8a69d1-205a-40b3-8b8a-656865d3aac1&quot;, &quot;aaca1fb1-3dfe-481d-a0f4-c77021f95937&quot;, … &quot;5eee81fb-24e8-4283-9a79-db2e756a239b&quot;]</td><td>[{&quot;6f32770e-5a56-48f8-93d3-8dbab8a75a52&quot;,&quot;iPhone-DX3FXADW0DXP&quot;,&quot;IPhone&quot;,&quot;16.5&quot;,&quot;RegisteredDevice&quot;,true,&quot;2023-05-31T18:32:07Z&quot;,&quot;2023-05-31T18:32:07Z&quot;,&quot;Corporate Device&quot;,&quot;4b998717-7b21-49f0-86c9-aec7ce42600f&quot;,&quot;Company&quot;,&quot;iOS Devices&quot;,&quot;CompanyPortalBulkEnrollment&quot;,false,false,false,&quot;MDM&quot;,&quot;Apple&quot;,&quot;0000000a-0000-0000-c000-000000000000&quot;,&quot;iPhone 12&quot;,null,null,&quot;2023-05-31T11:32:07Z&quot;,&quot;Workplace&quot;,2}, {&quot;4fd6c79a-f344-44fc-86ef-4848c88d1b26&quot;,&quot;SCTL8491&quot;,&quot;Windows&quot;,&quot;10.0.16299.0&quot;,&quot;RegisteredDevice&quot;,true,&quot;2021-01-22T16:45:48Z&quot;,&quot;2021-01-22T16:45:48Z&quot;,null,&quot;4079f86a-c65b-42db-a4ac-cb82eac13033&quot;,null,null,null,null,null,null,null,null,null,null,null,null,&quot;2021-01-22T08:45:48Z&quot;,&quot;Workplace&quot;,2}, … {&quot;e7157191-c4b9-411f-9ec3-785af1ad8cb7&quot;,&quot;C02T22L5GTDY&quot;,&quot;MacOS&quot;,&quot;11.6.2&quot;,&quot;RegisteredDevice&quot;,true,&quot;2022-01-28T13:42:31Z&quot;,&quot;2021-10-10T20:31:09Z&quot;,null,&quot;eaffda48-4536-4a07-91fb-67a78555ce59&quot;,null,null,null,false,false,null,null,null,null,null,null,null,&quot;2021-10-10T13:31:09Z&quot;,&quot;Workplace&quot;,2}]</td></tr><tr><td>&quot;Aaron, Dinah&quot;</td><td>&quot;aarond&quot;</td><td>&quot;Dinah&quot;</td><td>&quot;Aaron&quot;</td><td>&quot;Market Solutions Director&quot;</td><td>&quot;Market Solutions&quot;</td><td>&quot;Dinah.Aaron@earlywarning.com&quot;</td><td>[&quot;SMTP:Dinah.Aaron@earlywarning.com&quot;, &quot;X500:/o=netEPS/ou=Scottsdale/cn=Recipients/cn=DinahA&quot;, … &quot;X500:/o=EWS/ou=External (FYDIBOHF25SPDLT)/cn=Recipients/cn=b2c7dbc4a15941edaf25614a12564294&quot;]</td><td>&quot;Member&quot;</td><td>&quot;Regular&quot;</td><td>true</td><td>&quot;Early Warning Services, LLC&quot;</td><td>&quot;CN=Aaron\\, Dinah,OU=Direct Sal…</td><td>&quot;DisablePasswordExpiration&quot;</td><td>&quot;Scottsdale&quot;</td><td>&quot;Arizona&quot;</td><td>null</td><td>&quot;5801 N. Pima Rd&quot;</td><td>&quot;Dinah.Aaron@earlywarning.com&quot;</td><td>&quot;aarond&quot;</td><td>&quot;5b64a31a-bf8c-40a3-910e-db0a44…</td><td>[{&quot;#microsoft.graph.user&quot;,&quot;ac57388b-9ba0-4e51-bb5d-50f7efba68d4&quot;}]</td><td>&quot;ac57388b-9ba0-4e51-bb5d-50f7ef…</td><td>[&quot;eb8a69d1-205a-40b3-8b8a-656865d3aac1&quot;, &quot;fdd19719-6a43-4da4-930b-4ed85b138945&quot;, … &quot;f6412b91-f905-4f48-953b-44b9b375b2eb&quot;]</td><td>[{&quot;77d478cc-37a9-4c9f-962d-d668622616e7&quot;,&quot;C02Y83NWJGH5&quot;,&quot;MacOS&quot;,&quot;10.15.7&quot;,&quot;RegisteredDevice&quot;,true,&quot;2021-08-20T14:32:43Z&quot;,&quot;2021-07-21T17:22:13Z&quot;,null,&quot;f8e24795-e7b3-49f0-8c4c-38c554c711dd&quot;,null,null,null,null,null,null,null,null,null,null,null,null,&quot;2021-07-21T10:22:12Z&quot;,&quot;Workplace&quot;,2}, {&quot;5300110f-6702-4ac3-b7d1-82827e9bf0ea&quot;,&quot;WNJ49DWW97&quot;,&quot;MacOS&quot;,&quot;12.2.1&quot;,&quot;RegisteredDevice&quot;,true,&quot;2022-07-23T16:26:26Z&quot;,&quot;2022-07-23T16:26:26Z&quot;,null,&quot;b684d7df-04ca-4a06-8e55-7f2cdb32d979&quot;,null,null,null,null,null,null,null,null,null,null,null,null,&quot;2022-07-23T09:26:26Z&quot;,&quot;Workplace&quot;,2}, … {&quot;7f452a3a-e862-484b-80fe-ba5d5e931ea5&quot;,&quot;C02Y83NWJGH5&quot;,&quot;MacOS&quot;,&quot;12.4.0&quot;,&quot;RegisteredDevice&quot;,true,&quot;2022-07-22T17:38:30Z&quot;,&quot;2022-07-22T17:38:30Z&quot;,null,&quot;aecc8cf6-42ae-4842-9913-ddb26b088ed7&quot;,null,null,null,null,null,null,null,null,null,null,null,null,&quot;2022-07-22T10:38:30Z&quot;,&quot;Workplace&quot;,2}]</td></tr><tr><td>&quot;Woolridge, Davin&quot;</td><td>&quot;woolridd&quot;</td><td>&quot;Davin&quot;</td><td>&quot;Woolridge&quot;</td><td>&quot;Desktop Support Technician I&quot;</td><td>&quot;Desktop Support&quot;</td><td>&quot;Davin.Woolridge@earlywarning.c…</td><td>[&quot;SMTP:Davin.Woolridge@earlywarning.com&quot;, &quot;smtp:woolridd@earlywarningservices.onmicrosoft.com&quot;, … &quot;X500:/o=EWS/ou=External (FYDIBOHF25SPDLT)/cn=Recipients/cn=130f1fc4ec5946cdb2bb8fa86d485d42&quot;]</td><td>&quot;Member&quot;</td><td>&quot;Regular&quot;</td><td>true</td><td>&quot;Early Warning Services, LLC&quot;</td><td>&quot;CN=Woolridge\\, Davin,OU=Deploy…</td><td>&quot;DisablePasswordExpiration&quot;</td><td>&quot;Scottsdale&quot;</td><td>&quot;Arizona&quot;</td><td>null</td><td>&quot;5801 N. Pima Rd&quot;</td><td>&quot;Davin.Woolridge@earlywarning.c…</td><td>&quot;woolridd&quot;</td><td>&quot;0cbbd96a-ce92-4de2-9629-4880fd…</td><td>[{&quot;#microsoft.graph.user&quot;,&quot;ad39eb66-0212-4164-a14b-fe638fc47505&quot;}]</td><td>&quot;ad39eb66-0212-4164-a14b-fe638f…</td><td>[&quot;aaca1fb1-3dfe-481d-a0f4-c77021f95937&quot;, &quot;cf1d3e5f-cc92-4477-8d18-0ba8663bb846&quot;, … &quot;5eee81fb-24e8-4283-9a79-db2e756a239b&quot;]</td><td>[{&quot;cf8af278-55d9-474b-85ff-4a98233116de&quot;,&quot;SCTL0Y9dYoPdGGk&quot;,&quot;Windows&quot;,&quot;10.0.22631.3296&quot;,&quot;Shared&quot;,true,&quot;2024-04-19T20:49:22Z&quot;,&quot;2022-03-17T20:50:40Z&quot;,null,&quot;55fecf84-7e0e-4950-b0ff-0311685e5995&quot;,&quot;Company&quot;,&quot;Hybrid Preprovision over VPN&quot;,&quot;OnPremiseUsingWhiteGlove&quot;,false,false,false,&quot;MDM&quot;,&quot;Dell Inc.&quot;,null,&quot;Precision 3560&quot;,null,null,&quot;2024-04-02T09:52:49Z&quot;,&quot;AzureAd&quot;,2}, {&quot;3c9f2662-6eb7-4740-82fb-e3bdab340086&quot;,&quot;SCTD1005&quot;,&quot;Windows&quot;,&quot;10.0.16299.0&quot;,&quot;RegisteredDevice&quot;,true,&quot;2022-04-11T13:34:17Z&quot;,&quot;2021-01-09T14:00:47Z&quot;,null,&quot;a95dd3e2-ec50-4098-9fab-aecf9fe56c34&quot;,null,null,null,null,null,null,null,null,null,null,null,null,&quot;2021-01-09T06:00:46Z&quot;,&quot;Workplace&quot;,2}, … {&quot;090463ba-1927-4e8b-8276-b3614eec5317&quot;,&quot;SCTLV9LLHTYPnop&quot;,&quot;Windows&quot;,&quot;10.0.22631.3155&quot;,&quot;Shared&quot;,true,&quot;2024-02-20T21:35:33Z&quot;,&quot;2023-02-04T03:37:16Z&quot;,null,&quot;7b89bbba-5564-4b52-b15b-f229c37dc29f&quot;,&quot;Company&quot;,&quot;Hybrid Preprovision over VPN&quot;,&quot;OnPremiseUsingWhiteGlove&quot;,false,false,false,&quot;MDM&quot;,&quot;Dell Inc.&quot;,null,&quot;Precision 3470&quot;,null,[&quot;DESKTOP-JC1RER3&quot;],&quot;2024-02-21T13:39:45Z&quot;,&quot;AzureAd&quot;,2}]</td></tr><tr><td>&quot;Richards, Chris&quot;</td><td>&quot;richarc&quot;</td><td>&quot;Chris&quot;</td><td>&quot;Richards&quot;</td><td>&quot;Sr. Staff Engineer&quot;</td><td>&quot;Zelle Engineering&quot;</td><td>&quot;Chris.Richards@earlywarning.co…</td><td>[&quot;SMTP:Chris.Richards@earlywarning.com&quot;, &quot;smtp:Chris.Richards@earlywarningservices.onmicrosoft.com&quot;, … &quot;x500:/o=ExchangeLabs/ou=Exchange Administrative Group (FYDIBOHF23SPDLT)/cn=Recipients/cn=d2de6687ad4043d1b1b8c67054a96cce-Richards, C&quot;]</td><td>&quot;Member&quot;</td><td>&quot;Regular&quot;</td><td>true</td><td>&quot;Early Warning Services, LLC&quot;</td><td>&quot;CN=Richards\\, Chris,OU=Remote,…</td><td>&quot;DisablePasswordExpiration&quot;</td><td>null</td><td>null</td><td>null</td><td>null</td><td>&quot;Chris.Richards@earlywarning.co…</td><td>&quot;richarc&quot;</td><td>&quot;8e746daa-a183-4f8b-84e2-af72b2…</td><td>[{&quot;#microsoft.graph.user&quot;,&quot;654254f3-8f83-4ec5-87a0-ffdaf72d503a&quot;}]</td><td>&quot;654254f3-8f83-4ec5-87a0-ffdaf7…</td><td>[&quot;6fcd6edc-e490-443e-b2ed-06a41b9d5f4a&quot;, &quot;520edd51-cbd6-4c1e-8918-3a2149383600&quot;, … &quot;5eee81fb-24e8-4283-9a79-db2e756a239b&quot;]</td><td>[{&quot;96ce292e-3630-4c64-a772-92769d062f59&quot;,&quot;FVFC71PML413&quot;,&quot;MacOS&quot;,&quot;12.4.0&quot;,&quot;RegisteredDevice&quot;,true,&quot;2022-07-21T03:24:36Z&quot;,&quot;2022-06-15T20:57:58Z&quot;,null,&quot;484e187a-505f-4ddc-add6-181950ec0f0f&quot;,null,null,null,false,false,null,null,null,null,null,null,null,&quot;2022-06-15T13:57:58Z&quot;,&quot;Workplace&quot;,2}, {&quot;5d3619b0-1caf-43f2-bec5-935e1bebea73&quot;,&quot;FVFC71PML413&quot;,&quot;MacOS&quot;,&quot;12.4.0&quot;,&quot;RegisteredDevice&quot;,true,&quot;2022-06-14T21:49:41Z&quot;,&quot;2022-06-14T21:49:41Z&quot;,null,&quot;5343d543-b859-4dd1-9eb3-eda82ea2be7f&quot;,null,null,null,null,null,null,null,null,null,null,null,null,&quot;2022-06-14T14:49:41Z&quot;,&quot;Workplace&quot;,2}, … {&quot;062ddebe-ea8d-42c7-a77e-96400a6861f1&quot;,&quot;FVFC71PML413&quot;,&quot;MacOS&quot;,&quot;12.4.0&quot;,&quot;RegisteredDevice&quot;,true,&quot;2022-06-15T00:28:25Z&quot;,&quot;2022-06-15T00:28:25Z&quot;,null,&quot;567bdd60-705d-4ac1-80ec-8b6bb08e7963&quot;,null,null,null,null,null,null,null,null,null,null,null,null,&quot;2022-06-14T17:28:25Z&quot;,&quot;Workplace&quot;,2}]</td></tr><tr><td>&quot;Hon, Preston&quot;</td><td>&quot;honp&quot;</td><td>&quot;Preston&quot;</td><td>&quot;Hon&quot;</td><td>&quot;Software Engineer - Java&quot;</td><td>&quot;Product Engineering - Zelle&quot;</td><td>&quot;Preston.Hon@earlywarning.com&quot;</td><td>[&quot;SMTP:Preston.Hon@earlywarning.com&quot;, &quot;smtp:Preston.Hon@earlywarningservices.mail.onmicrosoft.com&quot;, … &quot;x500:/o=ExchangeLabs/ou=Exchange Administrative Group (FYDIBOHF23SPDLT)/cn=Recipients/cn=38b3473bc8714e8a9af13382f57c773a-Hon, Presto&quot;]</td><td>&quot;Member&quot;</td><td>&quot;Regular&quot;</td><td>true</td><td>&quot;Early Warning Services, LLC&quot;</td><td>&quot;CN=Hon\\, Preston,OU=Software D…</td><td>&quot;DisablePasswordExpiration&quot;</td><td>&quot;Scottsdale&quot;</td><td>&quot;Arizona&quot;</td><td>null</td><td>&quot;5801 N. Pima Rd&quot;</td><td>&quot;Preston.Hon@earlywarning.com&quot;</td><td>&quot;honp&quot;</td><td>&quot;8e48fd4a-2623-405e-95bc-a840d4…</td><td>[{&quot;#microsoft.graph.user&quot;,&quot;88ab9f8f-f5e6-4bf3-b8fc-6146dfd9fe88&quot;}]</td><td>&quot;88ab9f8f-f5e6-4bf3-b8fc-6146df…</td><td>[&quot;8bc382d1-f63d-4569-a4ec-a301b756c25c&quot;, &quot;f7a0b50f-125b-443b-89f9-41fc1886875d&quot;, … &quot;5eee81fb-24e8-4283-9a79-db2e756a239b&quot;]</td><td>[{&quot;f50fff71-481d-4d63-b74a-02076180ea4a&quot;,&quot;C02C9686MD6T&quot;,&quot;MacOS&quot;,&quot;10.15.7&quot;,&quot;RegisteredDevice&quot;,true,&quot;2021-07-21T16:58:06Z&quot;,&quot;2021-07-21T16:58:06Z&quot;,null,&quot;af162b73-2073-4890-807c-defc7e7919cf&quot;,null,null,null,null,null,null,null,null,null,null,null,null,&quot;2021-07-21T09:58:06Z&quot;,&quot;Workplace&quot;,2}, {&quot;7c91e837-f154-418c-9e99-f5e2d8173ab0&quot;,&quot;C02C9686MD6T&quot;,&quot;MacOS&quot;,&quot;13.1&quot;,&quot;RegisteredDevice&quot;,true,&quot;2023-03-20T06:37:47Z&quot;,&quot;2022-05-23T21:14:31Z&quot;,null,&quot;d4f67d5b-38e5-40eb-be21-21280ee1ac21&quot;,null,null,null,false,false,null,null,null,null,null,null,null,&quot;2022-05-23T14:14:31Z&quot;,&quot;Workplace&quot;,2}, … {&quot;2e1e4281-b961-4a69-ab63-14dfa2de0b64&quot;,&quot;Preston.Hon_AndroidForWork_8/30/2024_3:59 PM&quot;,&quot;AndroidForWork&quot;,&quot;15.0&quot;,&quot;RegisteredDevice&quot;,true,&quot;2024-12-30T14:58:12Z&quot;,&quot;2024-08-30T15:59:42Z&quot;,&quot;Personal Device&quot;,&quot;8600f068-8200-45d8-9010-778e2dd9b770&quot;,&quot;Personal&quot;,null,&quot;UserEnrollment&quot;,true,true,false,&quot;MDM&quot;,&quot;Google&quot;,&quot;0000000a-0000-0000-c000-000000000000&quot;,&quot;Pixel 9 Pro XL&quot;,null,null,&quot;2024-08-30T08:59:42Z&quot;,&quot;Workplace&quot;,2}]</td></tr></tbody></table></div>"
      ]
     },
     "execution_count": 51,
     "metadata": {},
     "output_type": "execute_result"
    }
   ],
   "execution_count": 51
  },
  {
   "metadata": {
    "ExecuteTime": {
     "end_time": "2025-06-20T13:46:56.917024Z",
     "start_time": "2025-06-20T13:46:56.903767Z"
    }
   },
   "cell_type": "code",
   "source": [
    "total_device_cnt = sum([len(x) for x in az_users if len(x.get(\"devices\",[])) > 0])\n",
    "total_device_cnt"
   ],
   "id": "a7219acb98f975d2",
   "outputs": [
    {
     "data": {
      "text/plain": [
       "36979"
      ]
     },
     "execution_count": 53,
     "metadata": {},
     "output_type": "execute_result"
    }
   ],
   "execution_count": 53
  },
  {
   "metadata": {},
   "cell_type": "code",
   "outputs": [],
   "execution_count": null,
   "source": "",
   "id": "6b14b0af58407ab2"
  }
 ],
 "metadata": {
  "kernelspec": {
   "display_name": "Python 3",
   "language": "python",
   "name": "python3"
  },
  "language_info": {
   "codemirror_mode": {
    "name": "ipython",
    "version": 2
   },
   "file_extension": ".py",
   "mimetype": "text/x-python",
   "name": "python",
   "nbconvert_exporter": "python",
   "pygments_lexer": "ipython2",
   "version": "2.7.6"
  }
 },
 "nbformat": 4,
 "nbformat_minor": 5
}
