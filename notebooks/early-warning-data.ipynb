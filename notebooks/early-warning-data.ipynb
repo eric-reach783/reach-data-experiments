{
 "cells": [
  {
   "cell_type": "markdown",
   "id": "0",
   "metadata": {},
   "source": [
    "## Early Warning Customer data\n",
    "\n",
    "ID: fbc0c2a7-9b29-4ed2-a909-3e68c26bb251\n",
    "Date Pulled: 2025-01-07\n",
    "Data Sources:\n",
    "- Okta system logs\n",
    "- Crowdstrike\n",
    "- TAP\n",
    "- Exchange ORG details\n",
    "- Active Directory\n",
    "\n",
    "The purpose of this portion of the notebook is to examine the distribution of devices across AD data."
   ]
  },
  {
   "cell_type": "code",
   "execution_count": null,
   "id": "1",
   "metadata": {},
   "outputs": [],
   "source": [
    "import polars as pl\n",
    "import datetime as dt\n",
    "import json\n",
    "from typing import Any, Dict, Iterable\n",
    "import os\n",
    "import re\n",
    "import pathlib\n",
    "import zstandard as zstd\n",
    "import csv\n",
    "import warnings\n",
    "warnings.filterwarnings(\"ignore\", category=UserWarning)\n",
    "\n",
    "# Decompress target files\n",
    "def normalize(name: str) -> str:\n",
    "    name = name.lower().strip()\n",
    "    name = re.sub(r'\\s+', '_', name)\n",
    "    name = re.sub(r'[^a-z0-9._-]', '', name)\n",
    "    return name\n",
    "\n",
    "def unzst_directory(src_dir: pathlib.Path):\n",
    "    src_dir = src_dir.resolve()\n",
    "    for root, _, files in os.walk(src_dir):\n",
    "        root = pathlib.Path(root)\n",
    "        rel = root.relative_to(src_dir)\n",
    "        target_root = src_dir / rel\n",
    "        target_root.mkdir(parents=True, exist_ok=True)\n",
    "        for file in files:\n",
    "            if file.endswith('.zst'):\n",
    "                inpath = root / file\n",
    "                stem = pathlib.Path(normalize(file[:-4]))\n",
    "                outpath = target_root / stem\n",
    "                print(f\"Decompressing {inpath} → {outpath}\")\n",
    "                with open(inpath, 'rb') as ifh, open(outpath, 'wb') as ofh:\n",
    "                    dctx = zstd.ZstdDecompressor()\n",
    "                    dctx.copy_stream(ifh, ofh)\n",
    "\n",
    "def dict_with_most_keys(dicts: Iterable[Dict[Any, Any]]) -> Dict[Any, Any]:\n",
    "    \"\"\"\n",
    "    Returns the dictionary from the iterable that has the most keys.\n",
    "    If multiple dictionaries are tied, returns the first one encountered.\n",
    "    Raises ValueError if the iterable is empty.\n",
    "    \"\"\"\n",
    "    try:\n",
    "        # `max` with key=len chooses the dict with the largest number of keys\n",
    "        return max(dicts, key=len)\n",
    "    except ValueError as e:\n",
    "        # This will occur if dicts is empty\n",
    "        raise ValueError(\"The input iterable must contain at least one dictionary\") from e\n",
    "\n"
   ]
  },
  {
   "cell_type": "code",
   "execution_count": null,
   "id": "2",
   "metadata": {},
   "outputs": [],
   "source": [
    "unzst_directory(pathlib.Path(\"/Users/eric.louhi/Github/reach-data-experiments/data/earlywarning\"))\n"
   ]
  },
  {
   "cell_type": "code",
   "execution_count": null,
   "id": "3",
   "metadata": {},
   "outputs": [],
   "source": [
    "az_ad_data: list[dict[str, Any]] = []\n",
    "with open(\"../data/earlywarning/azure_ad\", 'r') as f:\n",
    "    az_ad_data = json.load(f)"
   ]
  },
  {
   "cell_type": "code",
   "execution_count": null,
   "id": "4",
   "metadata": {},
   "outputs": [],
   "source": [
    "az_users = az_ad_data[\"users\"]\n",
    "az_users[0]"
   ]
  },
  {
   "cell_type": "code",
   "execution_count": null,
   "id": "5",
   "metadata": {},
   "outputs": [],
   "source": [
    "dict_with_most_keys(az_users)"
   ]
  },
  {
   "cell_type": "code",
   "execution_count": null,
   "id": "6",
   "metadata": {},
   "outputs": [],
   "source": [
    "# Load the list of dictionaries into a Polars DataFrame\n",
    "az_user_df = pl.DataFrame(az_users)\n",
    "\n",
    "# Explode the array field to individual rows, then aggregate the counts\n",
    "aggregated_counts = (\n",
    "    az_user_df.with_columns(pl.col(\"devices\").list.len().alias(\"device_count\"))  # length of each list\n",
    "    .group_by(\"device_count\")                                       # group by that length\n",
    "    .agg(pl.count(\"id\").alias(\"user_count\"))                     # count IDs per length\n",
    "    .sort([\"user_count\"], descending=True)\n",
    ")\n",
    "filtered_az_user_df = aggregated_counts.filter(pl.col(\"device_count\")>=1)\n",
    "filtered_az_user_df.write_csv(\"../data/earlywarning/ad-users-devices.csv\")\n",
    "print(filtered_az_user_df)\n"
   ]
  },
  {
   "cell_type": "code",
   "execution_count": null,
   "id": "7",
   "metadata": {},
   "outputs": [],
   "source": [
    "# hist_chart\n",
    "chart = filtered_az_user_df[\"device_count\"].plot.hist()\n",
    "chart"
   ]
  },
  {
   "cell_type": "code",
   "execution_count": null,
   "id": "8",
   "metadata": {},
   "outputs": [],
   "source": []
  },
  {
   "cell_type": "code",
   "execution_count": null,
   "id": "9",
   "metadata": {},
   "outputs": [],
   "source": [
    "print(aggregated_counts)"
   ]
  },
  {
   "cell_type": "code",
   "execution_count": null,
   "id": "10",
   "metadata": {},
   "outputs": [],
   "source": [
    "az_users\n",
    "# pl.col(\"devices\").list.len().alias(\"device_count\")\n",
    "filtered_az_user_device_cnt_df = az_user_df.filter(pl.col(\"devices\").list.len()==339),\n"
   ]
  },
  {
   "cell_type": "code",
   "execution_count": null,
   "id": "11",
   "metadata": {},
   "outputs": [],
   "source": [
    "filtered_az_user_device_cnt_df"
   ]
  },
  {
   "cell_type": "code",
   "execution_count": null,
   "id": "12",
   "metadata": {},
   "outputs": [],
   "source": [
    "t_df = pl.DataFrame([x for x in az_users if len(x.get(\"devices\",[])) > 30])"
   ]
  },
  {
   "cell_type": "code",
   "execution_count": null,
   "id": "13",
   "metadata": {},
   "outputs": [],
   "source": [
    "t_df"
   ]
  },
  {
   "cell_type": "code",
   "execution_count": null,
   "id": "14",
   "metadata": {},
   "outputs": [],
   "source": [
    "total_device_cnt = sum([len(x) for x in az_users if len(x.get(\"devices\",[])) > 0])\n",
    "total_device_cnt"
   ]
  },
  {
   "cell_type": "code",
   "execution_count": null,
   "id": "15",
   "metadata": {},
   "outputs": [],
   "source": []
  }
 ],
 "metadata": {
  "kernelspec": {
   "display_name": "Python 3",
   "language": "python",
   "name": "python3"
  },
  "language_info": {
   "codemirror_mode": {
    "name": "ipython",
    "version": 2
   },
   "file_extension": ".py",
   "mimetype": "text/x-python",
   "name": "python",
   "nbconvert_exporter": "python",
   "pygments_lexer": "ipython2",
   "version": "2.7.6"
  }
 },
 "nbformat": 4,
 "nbformat_minor": 5
}
