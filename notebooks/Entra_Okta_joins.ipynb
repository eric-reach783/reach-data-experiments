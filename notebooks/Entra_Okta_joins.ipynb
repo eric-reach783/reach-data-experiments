{
 "cells": [
  {
   "cell_type": "code",
   "execution_count": null,
   "id": "0",
   "metadata": {},
   "outputs": [],
   "source": [
    "import os\n",
    "import json\n",
    "\n",
    "\n",
    "azure_ad: dict|None\n",
    "with open('/Users/eric.louhi/Github/reach-data-experiments/data/customers/earlywarning/azure_ad', 'r') as f:\n",
    "    azure_ad = json.load(f)\n"
   ]
  },
  {
   "cell_type": "code",
   "execution_count": null,
   "id": "1",
   "metadata": {},
   "outputs": [],
   "source": [
    "entra_users = azure_ad.get(\"users\", [])\n",
    "entra_devices = azure_ad.get(\"devices\", [])\n",
    "entra_groups = azure_ad.get(\"groups\", [])"
   ]
  },
  {
   "cell_type": "code",
   "execution_count": null,
   "id": "2",
   "metadata": {},
   "outputs": [],
   "source": [
    "entra_groups[0]"
   ]
  },
  {
   "cell_type": "code",
   "execution_count": null,
   "id": "3",
   "metadata": {},
   "outputs": [],
   "source": [
    "entra_users[2]"
   ]
  },
  {
   "cell_type": "code",
   "execution_count": null,
   "id": "4",
   "metadata": {},
   "outputs": [],
   "source": [
    "entra_devices[0]"
   ]
  },
  {
   "cell_type": "code",
   "execution_count": null,
   "id": "5",
   "metadata": {},
   "outputs": [],
   "source": [
    "okta_logs = list[dict]|None\n",
    "with open(\"/Users/eric.louhi/Github/reach-data-experiments/data/customers/earlywarning/okta_logs\", 'r') as f:\n",
    "    okta_logs = json.load(f)"
   ]
  },
  {
   "cell_type": "code",
   "execution_count": null,
   "id": "6",
   "metadata": {},
   "outputs": [],
   "source": [
    "okta_logs[0]"
   ]
  },
  {
   "cell_type": "markdown",
   "id": "7",
   "metadata": {},
   "source": [
    "## Confirmed match on entra user ids and okta actor.id"
   ]
  },
  {
   "cell_type": "code",
   "execution_count": null,
   "id": "8",
   "metadata": {},
   "outputs": [],
   "source": [
    "\n",
    "for user in entra_users:\n",
    "    entra_users_id = user.get(\"id\", \"\")\n",
    "    entra_users_userId = user.get(\"userId\", \"\")\n",
    "    found = False\n",
    "    okta_match = dict|None\n",
    "    for log in okta_logs:\n",
    "        if log.get(\"actor\", {}).get(\"id\", \"\").lower() == entra_users_id.lower() or log.get(\"actor\", {}).get(\"userId\", \"\").lower() == entra_users_userId.lower():\n",
    "            okta_match = log\n",
    "            found = True\n",
    "            break\n",
    "    if found:\n",
    "        print(f\"Found match for {entra_users_id} or {entra_users_userId}\")\n",
    "        print(okta_match)\n",
    "        break\n",
    "\n"
   ]
  },
  {
   "cell_type": "markdown",
   "id": "9",
   "metadata": {},
   "source": [
    "## Confirmed match on entra display names and okta actor.alternateId/displayName"
   ]
  },
  {
   "cell_type": "code",
   "execution_count": null,
   "id": "10",
   "metadata": {},
   "outputs": [],
   "source": [
    "entra_users_user_principal_name = None\n",
    "entra_users_display_name = None\n",
    "\n",
    "for user in entra_users:\n",
    "    entra_users_user_principal_name = user.get(\"userPrincipalName\", \"\")\n",
    "    entra_users_display_name = user.get(\"displayName\", \"\")\n",
    "    found = False\n",
    "    okta_match = dict | None\n",
    "    for log in okta_logs:\n",
    "        match True:\n",
    "            case _ if log.get(\"actor\", {}).get(\"alternateId\", \"\").lower() == entra_users_user_principal_name.lower():\n",
    "                okta_match = log\n",
    "                found = True\n",
    "                break\n",
    "            case _ if log.get(\"actor\", {}).get(\"displayName\", \"\").lower() == entra_users_user_principal_name.lower():\n",
    "                okta_match = log\n",
    "                found = True\n",
    "                break\n",
    "            case _ if log.get(\"actor\", {}).get(\"alternateId\", \"\").lower() == entra_users_display_name.lower():\n",
    "                okta_match = log\n",
    "                found = True\n",
    "                break\n",
    "            case _ if log.get(\"actor\", {}).get(\"displayName\", \"\").lower() == entra_users_display_name.lower():\n",
    "                okta_match = log\n",
    "                found = True\n",
    "                break\n",
    "    if found:\n",
    "        print(f\"Found match for {entra_users_user_principal_name} or {entra_users_display_name}\")\n",
    "        print(okta_match)\n",
    "        break\n"
   ]
  },
  {
   "cell_type": "code",
   "execution_count": null,
   "id": "11",
   "metadata": {},
   "outputs": [],
   "source": []
  }
 ],
 "metadata": {
  "kernelspec": {
   "display_name": "Python 3",
   "language": "python",
   "name": "python3"
  },
  "language_info": {
   "codemirror_mode": {
    "name": "ipython",
    "version": 2
   },
   "file_extension": ".py",
   "mimetype": "text/x-python",
   "name": "python",
   "nbconvert_exporter": "python",
   "pygments_lexer": "ipython2",
   "version": "2.7.6"
  }
 },
 "nbformat": 4,
 "nbformat_minor": 5
}
