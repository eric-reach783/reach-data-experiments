{
 "cells": [
  {
   "cell_type": "code",
   "id": "initial_id",
   "metadata": {
    "collapsed": true
   },
   "source": [
    "from genson import SchemaBuilder\n",
    "import json\n",
    "from pprint import pprint as pp"
   ],
   "outputs": [],
   "execution_count": null
  },
  {
   "metadata": {
    "ExecuteTime": {
     "end_time": "2025-06-04T15:20:04.172461Z",
     "start_time": "2025-06-04T15:20:04.168016Z"
    }
   },
   "cell_type": "code",
   "source": [
    "file_name = \"containers\"\n",
    "data = None\n",
    "with open(f'/Users/eric.louhi/Desktop/Asset-Intel Data/20250528140751_{file_name}.json', 'r') as f:\n",
    "    data = json.load(f)"
   ],
   "id": "6b0dfc8259dcad3",
   "outputs": [],
   "execution_count": 31
  },
  {
   "metadata": {
    "ExecuteTime": {
     "end_time": "2025-06-04T15:20:04.823368Z",
     "start_time": "2025-06-04T15:20:04.818037Z"
    }
   },
   "cell_type": "code",
   "source": [
    "builder = SchemaBuilder()\n",
    "builder.add_object(data)\n",
    "with open(f'../data/schemas/blh-{file_name}-schema.json', 'w') as f:\n",
    "    json.dump(builder.to_schema(), f, indent=1)"
   ],
   "id": "609adf5d5fa3d957",
   "outputs": [],
   "execution_count": 32
  },
  {
   "metadata": {},
   "cell_type": "code",
   "source": "print(json.dumps(builder.to_schema(), indent=1))\n",
   "id": "b0fa9a0a0e1bc8aa",
   "outputs": [],
   "execution_count": null
  },
  {
   "metadata": {},
   "cell_type": "code",
   "source": [
    "print(json.dumps(data, indent=1))\n",
    "\n",
    "# data"
   ],
   "id": "87393909629580df",
   "outputs": [],
   "execution_count": null
  },
  {
   "metadata": {
    "ExecuteTime": {
     "end_time": "2025-06-04T15:17:01.000722Z",
     "start_time": "2025-06-04T15:17:00.996266Z"
    }
   },
   "cell_type": "code",
   "source": "",
   "id": "1aadcca9e1caaf9",
   "outputs": [],
   "execution_count": 15
  },
  {
   "metadata": {
    "ExecuteTime": {
     "end_time": "2025-06-04T18:57:54.222615Z",
     "start_time": "2025-06-04T18:57:54.062483Z"
    }
   },
   "cell_type": "code",
   "source": [
    "with open('../data/enterprise-attack.json', 'r') as mt:\n",
    "    adc_roast = json.load(mt)\n",
    "for i in adc_roast.get(\"objects\"):\n",
    "\n",
    "    if i[\"id\"] == \"attack-pattern--3986e7fd-a8e9-4ecb-bfc6-55920855912b\":\n",
    "        print(json.dumps(i, indent=2))"
   ],
   "id": "6357d009db6d1228",
   "outputs": [
    {
     "name": "stdout",
     "output_type": "stream",
     "text": [
      "{\n",
      "  \"type\": \"attack-pattern\",\n",
      "  \"id\": \"attack-pattern--3986e7fd-a8e9-4ecb-bfc6-55920855912b\",\n",
      "  \"created\": \"2020-08-24T13:43:00.028Z\",\n",
      "  \"created_by_ref\": \"identity--c78cb6e5-0c4b-4611-8297-d1b8b55e40b5\",\n",
      "  \"revoked\": false,\n",
      "  \"external_references\": [\n",
      "    {\n",
      "      \"source_name\": \"mitre-attack\",\n",
      "      \"url\": \"https://attack.mitre.org/techniques/T1558/004\",\n",
      "      \"external_id\": \"T1558.004\"\n",
      "    },\n",
      "    {\n",
      "      \"source_name\": \"Microsoft Detecting Kerberoasting Feb 2018\",\n",
      "      \"description\": \"Bani, M. (2018, February 23). Detecting Kerberoasting activity using Azure Security Center. Retrieved March 23, 2018.\",\n",
      "      \"url\": \"https://blogs.technet.microsoft.com/motiba/2018/02/23/detecting-kerberoasting-activity-using-azure-security-center/\"\n",
      "    },\n",
      "    {\n",
      "      \"source_name\": \"Harmj0y Roasting AS-REPs Jan 2017\",\n",
      "      \"description\": \"HarmJ0y. (2017, January 17). Roasting AS-REPs. Retrieved September 23, 2024.\",\n",
      "      \"url\": \"https://blog.harmj0y.net/activedirectory/roasting-as-reps/\"\n",
      "    },\n",
      "    {\n",
      "      \"source_name\": \"Stealthbits Cracking AS-REP Roasting Jun 2019\",\n",
      "      \"description\": \"Jeff Warren. (2019, June 27). Cracking Active Directory Passwords with AS-REP Roasting. Retrieved August 24, 2020.\",\n",
      "      \"url\": \"https://blog.stealthbits.com/cracking-active-directory-passwords-with-as-rep-roasting/\"\n",
      "    },\n",
      "    {\n",
      "      \"source_name\": \"SANS Attacking Kerberos Nov 2014\",\n",
      "      \"description\": \"Medin, T. (2014, November). Attacking Kerberos - Kicking the Guard Dog of Hades. Retrieved March 22, 2018.\",\n",
      "      \"url\": \"https://redsiege.com/kerberoast-slides\"\n",
      "    },\n",
      "    {\n",
      "      \"source_name\": \"AdSecurity Cracking Kerberos Dec 2015\",\n",
      "      \"description\": \"Metcalf, S. (2015, December 31). Cracking Kerberos TGS Tickets Using Kerberoast \\u2013 Exploiting Kerberos to Compromise the Active Directory Domain. Retrieved March 22, 2018.\",\n",
      "      \"url\": \"https://adsecurity.org/?p=2293\"\n",
      "    },\n",
      "    {\n",
      "      \"source_name\": \"Microsoft 4768 TGT 2017\",\n",
      "      \"description\": \"Microsoft. (2017, April 19). 4768(S, F): A Kerberos authentication ticket (TGT) was requested. Retrieved August 24, 2020.\",\n",
      "      \"url\": \"https://docs.microsoft.com/en-us/windows/security/threat-protection/auditing/event-4768\"\n",
      "    },\n",
      "    {\n",
      "      \"source_name\": \"Microsoft Kerberos Preauth 2014\",\n",
      "      \"description\": \"Sanyal, M.. (2014, March 18). Kerberos Pre-Authentication: Why It Should Not Be Disabled. Retrieved August 25, 2020.\",\n",
      "      \"url\": \"https://social.technet.microsoft.com/wiki/contents/articles/23559.kerberos-pre-authentication-why-it-should-not-be-disabled.aspx\"\n",
      "    }\n",
      "  ],\n",
      "  \"object_marking_refs\": [\n",
      "    \"marking-definition--fa42a846-8d90-4e51-bc29-71d5b4802168\"\n",
      "  ],\n",
      "  \"modified\": \"2025-04-15T19:58:23.309Z\",\n",
      "  \"name\": \"AS-REP Roasting\",\n",
      "  \"description\": \"Adversaries may reveal credentials of accounts that have disabled Kerberos preauthentication by [Password Cracking](https://attack.mitre.org/techniques/T1110/002) Kerberos messages.(Citation: Harmj0y Roasting AS-REPs Jan 2017) \\n\\nPreauthentication offers protection against offline [Password Cracking](https://attack.mitre.org/techniques/T1110/002). When enabled, a user requesting access to a resource initiates communication with the Domain Controller (DC) by sending an Authentication Server Request (AS-REQ) message with a timestamp that is encrypted with the hash of their password. If and only if the DC is able to successfully decrypt the timestamp with the hash of the user\\u2019s password, it will then send an Authentication Server Response (AS-REP) message that contains the Ticket Granting Ticket (TGT) to the user. Part of the AS-REP message is signed with the user\\u2019s password.(Citation: Microsoft Kerberos Preauth 2014)\\n\\nFor each account found without preauthentication, an adversary may send an AS-REQ message without the encrypted timestamp and receive an AS-REP message with TGT data which may be encrypted with an insecure algorithm such as RC4. The recovered encrypted data may be vulnerable to offline [Password Cracking](https://attack.mitre.org/techniques/T1110/002) attacks similarly to [Kerberoasting](https://attack.mitre.org/techniques/T1558/003) and expose plaintext credentials. (Citation: Harmj0y Roasting AS-REPs Jan 2017)(Citation: Stealthbits Cracking AS-REP Roasting Jun 2019) \\n\\nAn account registered to a domain, with or without special privileges, can be abused to list all domain accounts that have preauthentication disabled by utilizing Windows tools like [PowerShell](https://attack.mitre.org/techniques/T1059/001) with an LDAP filter. Alternatively, the adversary may send an AS-REQ message for each user. If the DC responds without errors, the account does not require preauthentication and the AS-REP message will already contain the encrypted data. (Citation: Harmj0y Roasting AS-REPs Jan 2017)(Citation: Stealthbits Cracking AS-REP Roasting Jun 2019)\\n\\nCracked hashes may enable [Persistence](https://attack.mitre.org/tactics/TA0003), [Privilege Escalation](https://attack.mitre.org/tactics/TA0004), and [Lateral Movement](https://attack.mitre.org/tactics/TA0008) via access to [Valid Accounts](https://attack.mitre.org/techniques/T1078).(Citation: SANS Attacking Kerberos Nov 2014)\",\n",
      "  \"kill_chain_phases\": [\n",
      "    {\n",
      "      \"kill_chain_name\": \"mitre-attack\",\n",
      "      \"phase_name\": \"credential-access\"\n",
      "    }\n",
      "  ],\n",
      "  \"x_mitre_attack_spec_version\": \"3.2.0\",\n",
      "  \"x_mitre_contributors\": [\n",
      "    \"Yossi Nisani, Cymptom\",\n",
      "    \"James Dunn, @jamdunnDFW, EY\",\n",
      "    \"Swapnil Kumbhar\",\n",
      "    \"Jacques Pluviose, @Jacqueswildy_IT\",\n",
      "    \"Dan Nutting, @KerberToast\"\n",
      "  ],\n",
      "  \"x_mitre_deprecated\": false,\n",
      "  \"x_mitre_detection\": \"Enable Audit Kerberos Service Ticket Operations to log Kerberos TGS service ticket requests. Particularly investigate irregular patterns of activity (ex: accounts making numerous requests, Event ID 4768 and 4769, within a small time frame, especially if they also request RC4 encryption [Type 0x17], pre-authentication not required [Type: 0x0]).(Citation: AdSecurity Cracking Kerberos Dec 2015)(Citation: Microsoft Detecting Kerberoasting Feb 2018)(Citation: Microsoft 4768 TGT 2017)\",\n",
      "  \"x_mitre_domains\": [\n",
      "    \"enterprise-attack\"\n",
      "  ],\n",
      "  \"x_mitre_is_subtechnique\": true,\n",
      "  \"x_mitre_modified_by_ref\": \"identity--c78cb6e5-0c4b-4611-8297-d1b8b55e40b5\",\n",
      "  \"x_mitre_platforms\": [\n",
      "    \"Windows\"\n",
      "  ],\n",
      "  \"x_mitre_version\": \"1.2\",\n",
      "  \"x_mitre_data_sources\": [\n",
      "    \"Active Directory: Active Directory Credential Request\"\n",
      "  ]\n",
      "}\n"
     ]
    }
   ],
   "execution_count": 40
  },
  {
   "metadata": {},
   "cell_type": "markdown",
   "source": [
    "AS-REP Roasting:\n",
    "```cypher\n",
    "MATCH (u:User)\n",
    "WHERE u.dontreqpreauth = true\n",
    "AND u.enabled = true\n",
    "RETURN u\n",
    "LIMIT 100\n",
    "```\n"
   ],
   "id": "24d9a03dab7c97f8"
  },
  {
   "metadata": {},
   "cell_type": "code",
   "outputs": [],
   "execution_count": null,
   "source": "",
   "id": "8d0c7bd0685e137d"
  }
 ],
 "metadata": {
  "kernelspec": {
   "display_name": "Python 3",
   "language": "python",
   "name": "python3"
  },
  "language_info": {
   "codemirror_mode": {
    "name": "ipython",
    "version": 2
   },
   "file_extension": ".py",
   "mimetype": "text/x-python",
   "name": "python",
   "nbconvert_exporter": "python",
   "pygments_lexer": "ipython2",
   "version": "2.7.6"
  }
 },
 "nbformat": 4,
 "nbformat_minor": 5
}
